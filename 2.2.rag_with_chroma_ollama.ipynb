{
 "cells": [
  {
   "cell_type": "markdown",
   "metadata": {},
   "source": [
    "# 1. Package 설치"
   ]
  },
  {
   "cell_type": "code",
   "execution_count": null,
   "metadata": {},
   "outputs": [],
   "source": [
    "%pip install python-dotenv langchain-community"
   ]
  },
  {
   "cell_type": "markdown",
   "metadata": {},
   "source": [
    "# 2. LLM 답변 생성\n",
    "\n",
    "- `ChatOllama`를 활용한 LLM 답변 생성"
   ]
  },
  {
   "cell_type": "code",
   "execution_count": 2,
   "metadata": {},
   "outputs": [],
   "source": [
    "from langchain_community.chat_models import ChatOllama\n",
    "\n",
    "llm = ChatOllama(model=\"gemma2\")"
   ]
  },
  {
   "cell_type": "code",
   "execution_count": 3,
   "metadata": {},
   "outputs": [],
   "source": [
    "query = \"인프런에 어떤 강의가 있나요?\"\n",
    "\n",
    "ai_message = llm.invoke(query)"
   ]
  },
  {
   "cell_type": "code",
   "execution_count": 4,
   "metadata": {},
   "outputs": [
    {
     "data": {
      "text/plain": [
       "'🤔 Inflearn is a popular online learning platform that offers a wide range of courses and tutorials on various topics. Here are some examples of the types of courses you can find on Inflearn:\\n\\n1. **Programming**: Python, Java, JavaScript, C++, Swift, and more.\\n2. **Data Science**: Machine learning, deep learning, data analysis, statistics, and visualization.\\n3. **Web Development**: Front-end (HTML, CSS, React), back-end (Node.js, Django), full-stack development, and web frameworks like Angular and Vue.js.\\n4. **Artificial Intelligence**: AI fundamentals, computer vision, natural language processing, and robotics.\\n5. **Game Development**: Game programming with C++, Java, or Python, as well as game design and 3D modeling.\\n6. **Cybersecurity**: Networking, cryptography, penetration testing, and security best practices.\\n7. **Cloud Computing**: AWS, Azure, Google Cloud Platform, and cloud-based services like containerization and serverless computing.\\n8. **Database Management**: SQL, NoSQL, database design, and database administration.\\n9. **IT/Network Administration**: Network fundamentals, Windows/Linux administration, and IT infrastructure management.\\n10. **Business Skills**: Leadership, communication, project management, and entrepreneurship.\\n\\nThese are just a few examples of the many topics covered on Inflearn. The platform also features courses on emerging technologies like blockchain, AR/VR, and IoT (Internet of Things). 🚀'"
      ]
     },
     "execution_count": 4,
     "metadata": {},
     "output_type": "execute_result"
    }
   ],
   "source": [
    "ai_message.content"
   ]
  },
  {
   "cell_type": "code",
   "execution_count": null,
   "metadata": {},
   "outputs": [],
   "source": []
  }
 ],
 "metadata": {
  "kernelspec": {
   "display_name": "inflearn-llm-application",
   "language": "python",
   "name": "python3"
  },
  "language_info": {
   "codemirror_mode": {
    "name": "ipython",
    "version": 3
   },
   "file_extension": ".py",
   "mimetype": "text/x-python",
   "name": "python",
   "nbconvert_exporter": "python",
   "pygments_lexer": "ipython3",
   "version": "3.12.4"
  }
 },
 "nbformat": 4,
 "nbformat_minor": 2
}
